{
  "nbformat": 4,
  "nbformat_minor": 0,
  "metadata": {
    "colab": {
      "provenance": [],
      "authorship_tag": "ABX9TyP72c4itz0sP0IAiP3ov5Nk",
      "include_colab_link": true
    },
    "kernelspec": {
      "name": "python3",
      "display_name": "Python 3"
    },
    "language_info": {
      "name": "python"
    }
  },
  "cells": [
    {
      "cell_type": "markdown",
      "metadata": {
        "id": "view-in-github",
        "colab_type": "text"
      },
      "source": [
        "<a href=\"https://colab.research.google.com/github/alu231123-sq/repaso-phyton/blob/main/ikersd.ipynb\" target=\"_parent\"><img src=\"https://colab.research.google.com/assets/colab-badge.svg\" alt=\"Open In Colab\"/></a>"
      ]
    },
    {
      "cell_type": "markdown",
      "source": [
        "1.-Imprimir nombre, paterno y materno de Alumno con CSS\n"
      ],
      "metadata": {
        "id": "ctq9buoV1jod"
      }
    },
    {
      "cell_type": "code",
      "source": [
        "nombre=input(\"captura un nombre : \")\n",
        "paterno=input(\"captura tu apellido paterno : \")\n",
        "materno=input(\"captura tu apellido materno : \")\n",
        "print(\"Nombre completo :\",nombre, paterno, materno)\n"
      ],
      "metadata": {
        "colab": {
          "base_uri": "https://localhost:8080/"
        },
        "id": "D_RXM5b11983",
        "outputId": "e6d5ede6-04d7-4271-9d03-6e4026eb907f"
      },
      "execution_count": 1,
      "outputs": [
        {
          "output_type": "stream",
          "name": "stdout",
          "text": [
            "captura un nombre : iker alejandro \n",
            "captura tu apellido paterno : salas\n",
            "captura tu apellido materno : diaz\n",
            "Nombre completo : iker alejandro  salas diaz\n"
          ]
        }
      ]
    },
    {
      "cell_type": "markdown",
      "source": [
        " 2.-Capturar 2 números decimales e imprimir Suma"
      ],
      "metadata": {
        "id": "C0blcjdX3ut4"
      }
    },
    {
      "cell_type": "code",
      "source": [
        "num1=float(input(\"numero 1: \"))\n",
        "num2=float(input(\"numero 2: \"))\n",
        "print (num1+num2)"
      ],
      "metadata": {
        "colab": {
          "base_uri": "https://localhost:8080/"
        },
        "id": "47Xfuq_632zX",
        "outputId": "e6942ddb-25a9-46ac-bd96-c9c490e1bede"
      },
      "execution_count": 2,
      "outputs": [
        {
          "output_type": "stream",
          "name": "stdout",
          "text": [
            "numero 1: 16.1\n",
            "numero 2: 12.1\n",
            "28.200000000000003\n"
          ]
        }
      ]
    },
    {
      "cell_type": "markdown",
      "source": [
        "3.- Calcular el área de un círculo\n"
      ],
      "metadata": {
        "id": "UOEkw1u75XrM"
      }
    },
    {
      "cell_type": "code",
      "source": [
        "radio=float(input(\"Radio : \"))\n",
        "a=radio*radio*3.1416\n",
        "print(a)"
      ],
      "metadata": {
        "colab": {
          "base_uri": "https://localhost:8080/"
        },
        "id": "oY73Bvj45U42",
        "outputId": "f5b50387-2e2c-48e8-bd66-a3ef13c2d8a5"
      },
      "execution_count": 3,
      "outputs": [
        {
          "output_type": "stream",
          "name": "stdout",
          "text": [
            "Radio : 5\n",
            "78.53999999999999\n"
          ]
        }
      ]
    }
  ]
}