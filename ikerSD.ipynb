{
  "nbformat": 4,
  "nbformat_minor": 0,
  "metadata": {
    "colab": {
      "provenance": [],
      "authorship_tag": "ABX9TyNIzXbC+BtIItUnwnozq9fc",
      "include_colab_link": true
    },
    "kernelspec": {
      "name": "python3",
      "display_name": "Python 3"
    },
    "language_info": {
      "name": "python"
    }
  },
  "cells": [
    {
      "cell_type": "markdown",
      "metadata": {
        "id": "view-in-github",
        "colab_type": "text"
      },
      "source": [
        "<a href=\"https://colab.research.google.com/github/alu231123-sq/repaso-phyton/blob/main/ikerSD.ipynb\" target=\"_parent\"><img src=\"https://colab.research.google.com/assets/colab-badge.svg\" alt=\"Open In Colab\"/></a>"
      ]
    },
    {
      "cell_type": "code",
      "execution_count": null,
      "metadata": {
        "id": "3j4B0UWqz7B7"
      },
      "outputs": [],
      "source": [
        "Programa 1 en phayton para imprimir mi nombre con hola mundo"
      ]
    },
    {
      "cell_type": "markdown",
      "source": [],
      "metadata": {
        "id": "1R1bHHsP0rJ7"
      }
    },
    {
      "cell_type": "markdown",
      "source": [
        "Programa 1 en phayton para imprimir mi nombre con hola mundo"
      ],
      "metadata": {
        "id": "jwmKRVNi0xo8"
      }
    },
    {
      "cell_type": "code",
      "source": [
        "print(\"hola mundo\")\n",
        "nombre=(input(\"captura tu nombre \"))\n",
        "print(nombre)"
      ],
      "metadata": {
        "colab": {
          "base_uri": "https://localhost:8080/"
        },
        "id": "TBXR5R8V0mi8",
        "outputId": "8a28c6e3-88b3-45e9-cb0f-f611548b5d12"
      },
      "execution_count": 2,
      "outputs": [
        {
          "output_type": "stream",
          "name": "stdout",
          "text": [
            "hola mundo\n",
            "captura tu nombre gummy\n",
            "gummy\n"
          ]
        }
      ]
    },
    {
      "cell_type": "markdown",
      "source": [
        "Programa 2 CAPTURAR TU NOMBRE, PATERNO Y MATERNO EN PANTALLA"
      ],
      "metadata": {
        "id": "o9jgGOEX1jJi"
      }
    },
    {
      "cell_type": "code",
      "source": [
        "\n",
        "print(\" ingresa tu nombre completo porfavor: \")\n",
        "n=input(\" ingresa tu nombre : \")\n",
        "p=input(\" ingresa tu apellido paterno: \")\n",
        "m=input(\" ingresa tu apellido materno: \")\n",
        "print (n+m+p)\n",
        "\n",
        "\n"
      ],
      "metadata": {
        "colab": {
          "base_uri": "https://localhost:8080/"
        },
        "id": "-siUkaTo12QA",
        "outputId": "1c7051d2-3dc9-4631-9f35-031d3e7581a7"
      },
      "execution_count": 4,
      "outputs": [
        {
          "output_type": "stream",
          "name": "stdout",
          "text": [
            " ingresa tu nombre completo porfavor: \n",
            " ingresa tu nombre : i a\n",
            " ingresa tu apellido paterno: s\n",
            " ingresa tu apellido materno: d\n",
            "i ads\n"
          ]
        }
      ]
    }
  ]
}