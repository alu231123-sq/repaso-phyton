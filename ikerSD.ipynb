{
  "nbformat": 4,
  "nbformat_minor": 0,
  "metadata": {
    "colab": {
      "provenance": [],
      "authorship_tag": "ABX9TyM5BUtCZfEcNZnAyAf09RDg",
      "include_colab_link": true
    },
    "kernelspec": {
      "name": "python3",
      "display_name": "Python 3"
    },
    "language_info": {
      "name": "python"
    }
  },
  "cells": [
    {
      "cell_type": "markdown",
      "metadata": {
        "id": "view-in-github",
        "colab_type": "text"
      },
      "source": [
        "<a href=\"https://colab.research.google.com/github/alu231123-sq/repaso-phyton/blob/main/ikerSD.ipynb\" target=\"_parent\"><img src=\"https://colab.research.google.com/assets/colab-badge.svg\" alt=\"Open In Colab\"/></a>"
      ]
    },
    {
      "cell_type": "code",
      "execution_count": null,
      "metadata": {
        "id": "z5opbE6o5h2b"
      },
      "outputs": [],
      "source": []
    },
    {
      "cell_type": "markdown",
      "source": [
        "1.-realizar un programa en phyton que te permita capturar 2 numerosa enteros e imprima la suma, la resta, la multiplicacion y la divicion de ambos\n"
      ],
      "metadata": {
        "id": "2qKkDCRY6Q17"
      }
    },
    {
      "cell_type": "code",
      "source": [
        "num1=int(input(\"numero 1: \"))\n",
        "num2=int(input(\"numero 2: \"))\n",
        "print (num1+num2)\n",
        "print (num1-num2)\n",
        "print (num1*num2)\n",
        "print (num1/num2)"
      ],
      "metadata": {
        "colab": {
          "base_uri": "https://localhost:8080/"
        },
        "id": "lJ0sR7aZ6YES",
        "outputId": "00fed9cf-369f-41be-eb95-7c070625a164"
      },
      "execution_count": 6,
      "outputs": [
        {
          "output_type": "stream",
          "name": "stdout",
          "text": [
            "numero 1: 5\n",
            "numero 2: 5\n",
            "10\n",
            "0\n",
            "25\n",
            "1.0\n"
          ]
        }
      ]
    },
    {
      "cell_type": "markdown",
      "source": [
        "2.-realiza un programane phyton el cual el total de caracteres que tiene un nombrecapturado desde el teclado"
      ],
      "metadata": {
        "id": "wpnbSstX-Y9f"
      }
    },
    {
      "cell_type": "code",
      "source": [
        "nombre=input(\"captura un nombre: \")\n",
        "totalletras=len(nombre)\n",
        "print(\"el total de la sletras que pusiste son: \",totalletras)"
      ],
      "metadata": {
        "colab": {
          "base_uri": "https://localhost:8080/"
        },
        "id": "Se1mBbXA_Aat",
        "outputId": "5e0b3c60-dbba-4f8d-de08-466327ccc9c6"
      },
      "execution_count": 8,
      "outputs": [
        {
          "output_type": "stream",
          "name": "stdout",
          "text": [
            "captura un nombre: iker\n",
            "el total de la sletras que pusiste son:  4\n"
          ]
        }
      ]
    },
    {
      "cell_type": "markdown",
      "source": [
        "3.-realizar un programa que ponga todos los dias de la semana"
      ],
      "metadata": {
        "id": "Rb2e2FBVAFfb"
      }
    },
    {
      "cell_type": "code",
      "source": [
        "semana=(\"lunes, martes , miercoles, jueves ,viernes ,sabado, domingo\")\n",
        "print (semana)"
      ],
      "metadata": {
        "colab": {
          "base_uri": "https://localhost:8080/"
        },
        "id": "-KGlF6n1Aaxo",
        "outputId": "c5eda881-e189-4b6e-8ec2-b899e6d662fd"
      },
      "execution_count": 9,
      "outputs": [
        {
          "output_type": "stream",
          "name": "stdout",
          "text": [
            "lunes, martes , miercoles, jueves ,viernes ,sabado, domingo\n"
          ]
        }
      ]
    }
  ]
}